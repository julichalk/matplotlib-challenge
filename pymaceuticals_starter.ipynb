{
 "cells": [
  {
   "cell_type": "markdown",
   "metadata": {},
   "source": [
    "## Observations and Insights "
   ]
  },
  {
   "cell_type": "markdown",
   "metadata": {},
   "source": []
  },
  {
   "cell_type": "code",
   "execution_count": 8,
   "metadata": {},
   "outputs": [
    {
     "data": {
      "text/html": [
       "<div>\n",
       "<style scoped>\n",
       "    .dataframe tbody tr th:only-of-type {\n",
       "        vertical-align: middle;\n",
       "    }\n",
       "\n",
       "    .dataframe tbody tr th {\n",
       "        vertical-align: top;\n",
       "    }\n",
       "\n",
       "    .dataframe thead th {\n",
       "        text-align: right;\n",
       "    }\n",
       "</style>\n",
       "<table border=\"1\" class=\"dataframe\">\n",
       "  <thead>\n",
       "    <tr style=\"text-align: right;\">\n",
       "      <th></th>\n",
       "      <th>Mouse ID</th>\n",
       "      <th>Drug Regimen</th>\n",
       "      <th>Sex</th>\n",
       "      <th>Age_months</th>\n",
       "      <th>Weight (g)</th>\n",
       "      <th>Timepoint</th>\n",
       "      <th>Tumor Volume (mm3)</th>\n",
       "      <th>Metastatic Sites</th>\n",
       "    </tr>\n",
       "  </thead>\n",
       "  <tbody>\n",
       "    <tr>\n",
       "      <th>0</th>\n",
       "      <td>k403</td>\n",
       "      <td>Ramicane</td>\n",
       "      <td>Male</td>\n",
       "      <td>21</td>\n",
       "      <td>16</td>\n",
       "      <td>0</td>\n",
       "      <td>45.000000</td>\n",
       "      <td>0</td>\n",
       "    </tr>\n",
       "    <tr>\n",
       "      <th>1</th>\n",
       "      <td>k403</td>\n",
       "      <td>Ramicane</td>\n",
       "      <td>Male</td>\n",
       "      <td>21</td>\n",
       "      <td>16</td>\n",
       "      <td>5</td>\n",
       "      <td>38.825898</td>\n",
       "      <td>0</td>\n",
       "    </tr>\n",
       "    <tr>\n",
       "      <th>2</th>\n",
       "      <td>k403</td>\n",
       "      <td>Ramicane</td>\n",
       "      <td>Male</td>\n",
       "      <td>21</td>\n",
       "      <td>16</td>\n",
       "      <td>10</td>\n",
       "      <td>35.014271</td>\n",
       "      <td>1</td>\n",
       "    </tr>\n",
       "    <tr>\n",
       "      <th>3</th>\n",
       "      <td>k403</td>\n",
       "      <td>Ramicane</td>\n",
       "      <td>Male</td>\n",
       "      <td>21</td>\n",
       "      <td>16</td>\n",
       "      <td>15</td>\n",
       "      <td>34.223992</td>\n",
       "      <td>1</td>\n",
       "    </tr>\n",
       "    <tr>\n",
       "      <th>4</th>\n",
       "      <td>k403</td>\n",
       "      <td>Ramicane</td>\n",
       "      <td>Male</td>\n",
       "      <td>21</td>\n",
       "      <td>16</td>\n",
       "      <td>20</td>\n",
       "      <td>32.997729</td>\n",
       "      <td>1</td>\n",
       "    </tr>\n",
       "  </tbody>\n",
       "</table>\n",
       "</div>"
      ],
      "text/plain": [
       "  Mouse ID Drug Regimen   Sex  Age_months  Weight (g)  Timepoint  \\\n",
       "0     k403     Ramicane  Male          21          16          0   \n",
       "1     k403     Ramicane  Male          21          16          5   \n",
       "2     k403     Ramicane  Male          21          16         10   \n",
       "3     k403     Ramicane  Male          21          16         15   \n",
       "4     k403     Ramicane  Male          21          16         20   \n",
       "\n",
       "   Tumor Volume (mm3)  Metastatic Sites  \n",
       "0           45.000000                 0  \n",
       "1           38.825898                 0  \n",
       "2           35.014271                 1  \n",
       "3           34.223992                 1  \n",
       "4           32.997729                 1  "
      ]
     },
     "execution_count": 8,
     "metadata": {},
     "output_type": "execute_result"
    }
   ],
   "source": [
    "# Dependencies and Setup\n",
    "import matplotlib.pyplot as plt\n",
    "import pandas as pd\n",
    "import scipy.stats as st\n",
    "\n",
    "# Study data files\n",
    "mouse_metadata_path = \"data/Mouse_metadata.csv\"\n",
    "study_results_path = \"data/Study_results.csv\"\n",
    "\n",
    "# Read the mouse data and the study results\n",
    "mouse_metadata = pd.read_csv(mouse_metadata_path)\n",
    "study_results = pd.read_csv(study_results_path)\n",
    "\n",
    "# Combine the data into a single dataset\n",
    "\n",
    "combined = pd.merge(mouse_metadata, study_results, on = 'Mouse ID', how = 'outer')\n",
    "\n",
    "# Display the data table for preview\n",
    "\n",
    "combined.head()"
   ]
  },
  {
   "cell_type": "code",
   "execution_count": 14,
   "metadata": {},
   "outputs": [
    {
     "data": {
      "text/plain": [
       "249"
      ]
     },
     "execution_count": 14,
     "metadata": {},
     "output_type": "execute_result"
    }
   ],
   "source": [
    "# Checking the number of mice.\n",
    "mice_count = combined['Mouse ID'].value_counts()\n",
    "number_of_mice = len(mice_count)\n",
    "number_of_mice"
   ]
  },
  {
   "cell_type": "code",
   "execution_count": 13,
   "metadata": {},
   "outputs": [
    {
     "data": {
      "text/plain": [
       "array(['g989'], dtype=object)"
      ]
     },
     "execution_count": 13,
     "metadata": {},
     "output_type": "execute_result"
    }
   ],
   "source": [
    "# Getting the duplicate mice by ID number that shows up for Mouse ID and Timepoint. \n",
    "\n",
    "duplicates = combined.loc[combined.duplicated(subset = ['Mouse ID', 'Timepoint']),'Mouse ID'].unique()\n",
    "duplicates"
   ]
  },
  {
   "cell_type": "code",
   "execution_count": null,
   "metadata": {},
   "outputs": [],
   "source": [
    "# Optional: Get all the data for the duplicate mouse ID. \n",
    "\n"
   ]
  },
  {
   "cell_type": "code",
   "execution_count": 15,
   "metadata": {},
   "outputs": [],
   "source": [
    "# Create a clean DataFrame by dropping the duplicate mouse by its ID\n",
    "\n",
    "clean_data = combined[combined['Mouse ID'].isin(duplicates)==False]"
   ]
  },
  {
   "cell_type": "code",
   "execution_count": 16,
   "metadata": {},
   "outputs": [
    {
     "data": {
      "text/plain": [
       "248"
      ]
     },
     "execution_count": 16,
     "metadata": {},
     "output_type": "execute_result"
    }
   ],
   "source": [
    "# Checking the number of mice in the clean DataFrame.\n",
    "\n",
    "clean_count = clean_data['Mouse ID'].value_counts()\n",
    "clean_num_of_mice = len(clean_count)\n",
    "clean_num_of_mice"
   ]
  },
  {
   "cell_type": "markdown",
   "metadata": {},
   "source": [
    "## Summary Statistics"
   ]
  },
  {
   "cell_type": "code",
   "execution_count": 18,
   "metadata": {},
   "outputs": [
    {
     "data": {
      "text/html": [
       "<div>\n",
       "<style scoped>\n",
       "    .dataframe tbody tr th:only-of-type {\n",
       "        vertical-align: middle;\n",
       "    }\n",
       "\n",
       "    .dataframe tbody tr th {\n",
       "        vertical-align: top;\n",
       "    }\n",
       "\n",
       "    .dataframe thead th {\n",
       "        text-align: right;\n",
       "    }\n",
       "</style>\n",
       "<table border=\"1\" class=\"dataframe\">\n",
       "  <thead>\n",
       "    <tr style=\"text-align: right;\">\n",
       "      <th></th>\n",
       "      <th>Mean of Volume</th>\n",
       "      <th>Median of Volume</th>\n",
       "      <th>Variance of Volume</th>\n",
       "      <th>Standard Deviation of Volume</th>\n",
       "      <th>SEM of Volume</th>\n",
       "    </tr>\n",
       "    <tr>\n",
       "      <th>Drug Regimen</th>\n",
       "      <th></th>\n",
       "      <th></th>\n",
       "      <th></th>\n",
       "      <th></th>\n",
       "      <th></th>\n",
       "    </tr>\n",
       "  </thead>\n",
       "  <tbody>\n",
       "    <tr>\n",
       "      <th>Capomulin</th>\n",
       "      <td>40.675741</td>\n",
       "      <td>41.557809</td>\n",
       "      <td>24.947764</td>\n",
       "      <td>4.994774</td>\n",
       "      <td>0.329346</td>\n",
       "    </tr>\n",
       "    <tr>\n",
       "      <th>Ceftamin</th>\n",
       "      <td>52.591172</td>\n",
       "      <td>51.776157</td>\n",
       "      <td>39.290177</td>\n",
       "      <td>6.268188</td>\n",
       "      <td>0.469821</td>\n",
       "    </tr>\n",
       "    <tr>\n",
       "      <th>Infubinol</th>\n",
       "      <td>52.884795</td>\n",
       "      <td>51.820584</td>\n",
       "      <td>43.128684</td>\n",
       "      <td>6.567243</td>\n",
       "      <td>0.492236</td>\n",
       "    </tr>\n",
       "    <tr>\n",
       "      <th>Ketapril</th>\n",
       "      <td>55.235638</td>\n",
       "      <td>53.698743</td>\n",
       "      <td>68.553577</td>\n",
       "      <td>8.279709</td>\n",
       "      <td>0.603860</td>\n",
       "    </tr>\n",
       "    <tr>\n",
       "      <th>Naftisol</th>\n",
       "      <td>54.331565</td>\n",
       "      <td>52.509285</td>\n",
       "      <td>66.173479</td>\n",
       "      <td>8.134708</td>\n",
       "      <td>0.596466</td>\n",
       "    </tr>\n",
       "    <tr>\n",
       "      <th>Placebo</th>\n",
       "      <td>54.033581</td>\n",
       "      <td>52.288934</td>\n",
       "      <td>61.168083</td>\n",
       "      <td>7.821003</td>\n",
       "      <td>0.581331</td>\n",
       "    </tr>\n",
       "    <tr>\n",
       "      <th>Propriva</th>\n",
       "      <td>52.320930</td>\n",
       "      <td>50.446266</td>\n",
       "      <td>43.852013</td>\n",
       "      <td>6.622085</td>\n",
       "      <td>0.544332</td>\n",
       "    </tr>\n",
       "    <tr>\n",
       "      <th>Ramicane</th>\n",
       "      <td>40.216745</td>\n",
       "      <td>40.673236</td>\n",
       "      <td>23.486704</td>\n",
       "      <td>4.846308</td>\n",
       "      <td>0.320955</td>\n",
       "    </tr>\n",
       "    <tr>\n",
       "      <th>Stelasyn</th>\n",
       "      <td>54.233149</td>\n",
       "      <td>52.431737</td>\n",
       "      <td>59.450562</td>\n",
       "      <td>7.710419</td>\n",
       "      <td>0.573111</td>\n",
       "    </tr>\n",
       "    <tr>\n",
       "      <th>Zoniferol</th>\n",
       "      <td>53.236507</td>\n",
       "      <td>51.818479</td>\n",
       "      <td>48.533355</td>\n",
       "      <td>6.966589</td>\n",
       "      <td>0.516398</td>\n",
       "    </tr>\n",
       "  </tbody>\n",
       "</table>\n",
       "</div>"
      ],
      "text/plain": [
       "              Mean of Volume  Median of Volume  Variance of Volume  \\\n",
       "Drug Regimen                                                         \n",
       "Capomulin          40.675741         41.557809           24.947764   \n",
       "Ceftamin           52.591172         51.776157           39.290177   \n",
       "Infubinol          52.884795         51.820584           43.128684   \n",
       "Ketapril           55.235638         53.698743           68.553577   \n",
       "Naftisol           54.331565         52.509285           66.173479   \n",
       "Placebo            54.033581         52.288934           61.168083   \n",
       "Propriva           52.320930         50.446266           43.852013   \n",
       "Ramicane           40.216745         40.673236           23.486704   \n",
       "Stelasyn           54.233149         52.431737           59.450562   \n",
       "Zoniferol          53.236507         51.818479           48.533355   \n",
       "\n",
       "              Standard Deviation of Volume  SEM of Volume  \n",
       "Drug Regimen                                               \n",
       "Capomulin                         4.994774       0.329346  \n",
       "Ceftamin                          6.268188       0.469821  \n",
       "Infubinol                         6.567243       0.492236  \n",
       "Ketapril                          8.279709       0.603860  \n",
       "Naftisol                          8.134708       0.596466  \n",
       "Placebo                           7.821003       0.581331  \n",
       "Propriva                          6.622085       0.544332  \n",
       "Ramicane                          4.846308       0.320955  \n",
       "Stelasyn                          7.710419       0.573111  \n",
       "Zoniferol                         6.966589       0.516398  "
      ]
     },
     "execution_count": 18,
     "metadata": {},
     "output_type": "execute_result"
    }
   ],
   "source": [
    "# Generate a summary statistics table of mean, median, variance, standard deviation, and SEM of the tumor volume for each regimen\n",
    "\n",
    "# Use groupby and summary statistical methods to calculate the following properties of each drug regimen: \n",
    "# mean, median, variance, standard deviation, and SEM of the tumor volume. \n",
    "# Assemble the resulting series into a single summary dataframe.\n",
    "\n",
    "grouped_drug_regimen = clean_data.groupby(['Drug Regimen'])\n",
    "\n",
    "mean_volume = grouped_drug_regimen['Tumor Volume (mm3)'].mean()\n",
    "\n",
    "median_volume = grouped_drug_regimen['Tumor Volume (mm3)'].median()\n",
    "\n",
    "variance_volume = grouped_drug_regimen['Tumor Volume (mm3)'].var()\n",
    "\n",
    "std_deviation_volume = grouped_drug_regimen['Tumor Volume (mm3)'].std()\n",
    "\n",
    "sem_volume = grouped_drug_regimen['Tumor Volume (mm3)'].sem()\n",
    "\n",
    "\n",
    "\n",
    "summary_df = pd.DataFrame({\n",
    "    'Mean of Volume' : mean_volume,\n",
    "    'Median of Volume' : median_volume,\n",
    "    'Variance of Volume' : variance_volume,\n",
    "    'Standard Deviation of Volume' : std_deviation_volume,\n",
    "    'SEM of Volume' : sem_volume\n",
    "})\n",
    "\n",
    "summary_df\n"
   ]
  },
  {
   "cell_type": "code",
   "execution_count": 19,
   "metadata": {},
   "outputs": [
    {
     "data": {
      "text/html": [
       "<div>\n",
       "<style scoped>\n",
       "    .dataframe tbody tr th:only-of-type {\n",
       "        vertical-align: middle;\n",
       "    }\n",
       "\n",
       "    .dataframe tbody tr th {\n",
       "        vertical-align: top;\n",
       "    }\n",
       "\n",
       "    .dataframe thead th {\n",
       "        text-align: right;\n",
       "    }\n",
       "</style>\n",
       "<table border=\"1\" class=\"dataframe\">\n",
       "  <thead>\n",
       "    <tr style=\"text-align: right;\">\n",
       "      <th></th>\n",
       "      <th>mean</th>\n",
       "      <th>median</th>\n",
       "      <th>var</th>\n",
       "      <th>std</th>\n",
       "      <th>sem</th>\n",
       "    </tr>\n",
       "    <tr>\n",
       "      <th>Drug Regimen</th>\n",
       "      <th></th>\n",
       "      <th></th>\n",
       "      <th></th>\n",
       "      <th></th>\n",
       "      <th></th>\n",
       "    </tr>\n",
       "  </thead>\n",
       "  <tbody>\n",
       "    <tr>\n",
       "      <th>Capomulin</th>\n",
       "      <td>40.675741</td>\n",
       "      <td>41.557809</td>\n",
       "      <td>24.947764</td>\n",
       "      <td>4.994774</td>\n",
       "      <td>0.329346</td>\n",
       "    </tr>\n",
       "    <tr>\n",
       "      <th>Ceftamin</th>\n",
       "      <td>52.591172</td>\n",
       "      <td>51.776157</td>\n",
       "      <td>39.290177</td>\n",
       "      <td>6.268188</td>\n",
       "      <td>0.469821</td>\n",
       "    </tr>\n",
       "    <tr>\n",
       "      <th>Infubinol</th>\n",
       "      <td>52.884795</td>\n",
       "      <td>51.820584</td>\n",
       "      <td>43.128684</td>\n",
       "      <td>6.567243</td>\n",
       "      <td>0.492236</td>\n",
       "    </tr>\n",
       "    <tr>\n",
       "      <th>Ketapril</th>\n",
       "      <td>55.235638</td>\n",
       "      <td>53.698743</td>\n",
       "      <td>68.553577</td>\n",
       "      <td>8.279709</td>\n",
       "      <td>0.603860</td>\n",
       "    </tr>\n",
       "    <tr>\n",
       "      <th>Naftisol</th>\n",
       "      <td>54.331565</td>\n",
       "      <td>52.509285</td>\n",
       "      <td>66.173479</td>\n",
       "      <td>8.134708</td>\n",
       "      <td>0.596466</td>\n",
       "    </tr>\n",
       "    <tr>\n",
       "      <th>Placebo</th>\n",
       "      <td>54.033581</td>\n",
       "      <td>52.288934</td>\n",
       "      <td>61.168083</td>\n",
       "      <td>7.821003</td>\n",
       "      <td>0.581331</td>\n",
       "    </tr>\n",
       "    <tr>\n",
       "      <th>Propriva</th>\n",
       "      <td>52.320930</td>\n",
       "      <td>50.446266</td>\n",
       "      <td>43.852013</td>\n",
       "      <td>6.622085</td>\n",
       "      <td>0.544332</td>\n",
       "    </tr>\n",
       "    <tr>\n",
       "      <th>Ramicane</th>\n",
       "      <td>40.216745</td>\n",
       "      <td>40.673236</td>\n",
       "      <td>23.486704</td>\n",
       "      <td>4.846308</td>\n",
       "      <td>0.320955</td>\n",
       "    </tr>\n",
       "    <tr>\n",
       "      <th>Stelasyn</th>\n",
       "      <td>54.233149</td>\n",
       "      <td>52.431737</td>\n",
       "      <td>59.450562</td>\n",
       "      <td>7.710419</td>\n",
       "      <td>0.573111</td>\n",
       "    </tr>\n",
       "    <tr>\n",
       "      <th>Zoniferol</th>\n",
       "      <td>53.236507</td>\n",
       "      <td>51.818479</td>\n",
       "      <td>48.533355</td>\n",
       "      <td>6.966589</td>\n",
       "      <td>0.516398</td>\n",
       "    </tr>\n",
       "  </tbody>\n",
       "</table>\n",
       "</div>"
      ],
      "text/plain": [
       "                   mean     median        var       std       sem\n",
       "Drug Regimen                                                     \n",
       "Capomulin     40.675741  41.557809  24.947764  4.994774  0.329346\n",
       "Ceftamin      52.591172  51.776157  39.290177  6.268188  0.469821\n",
       "Infubinol     52.884795  51.820584  43.128684  6.567243  0.492236\n",
       "Ketapril      55.235638  53.698743  68.553577  8.279709  0.603860\n",
       "Naftisol      54.331565  52.509285  66.173479  8.134708  0.596466\n",
       "Placebo       54.033581  52.288934  61.168083  7.821003  0.581331\n",
       "Propriva      52.320930  50.446266  43.852013  6.622085  0.544332\n",
       "Ramicane      40.216745  40.673236  23.486704  4.846308  0.320955\n",
       "Stelasyn      54.233149  52.431737  59.450562  7.710419  0.573111\n",
       "Zoniferol     53.236507  51.818479  48.533355  6.966589  0.516398"
      ]
     },
     "execution_count": 19,
     "metadata": {},
     "output_type": "execute_result"
    }
   ],
   "source": [
    "# Generate a summary statistics table of mean, median, variance, standard deviation, and SEM of the tumor volume for each regimen\n",
    "\n",
    "# Using the aggregation method, produce the same summary statistics in a single line\n",
    "\n",
    "summary_agg = grouped_drug_regimen.agg(['mean', 'median', 'var', 'std', 'sem'])['Tumor Volume (mm3)']\n",
    "summary_agg"
   ]
  },
  {
   "cell_type": "markdown",
   "metadata": {},
   "source": [
    "## Bar and Pie Charts"
   ]
  },
  {
   "cell_type": "code",
   "execution_count": 32,
   "metadata": {},
   "outputs": [
    {
     "data": {
      "text/plain": [
       "Text(0.5, 1.0, 'Number of Measurements Per Drug Regiment')"
      ]
     },
     "execution_count": 32,
     "metadata": {},
     "output_type": "execute_result"
    },
    {
     "data": {
      "image/png": "[encoded data removed]",
      "text/plain": [
       "<Figure size 720x360 with 1 Axes>"
      ]
     },
     "metadata": {
      "needs_background": "light"
     },
     "output_type": "display_data"
    }
   ],
   "source": [
    "# Generate a bar plot showing the total number of measurements taken on each drug regimen using pandas.\n",
    "\n",
    "# count of mice?\n",
    "\n",
    "count_per_drug = grouped_drug_regimen.count()['Mouse ID']\n",
    "#count_per_drug\n",
    "\n",
    "pandas_plot = count_per_drug.plot.bar(figsize=(10,5), color = 'red', fontsize = 12)\n",
    "plt.xlabel('Drug Regimen', fontsize = 12)\n",
    "plt.ylabel('Number of Measurements', fontsize = 12)\n",
    "plt.title('Number of Measurements Per Drug Regiment', fontsize = 18)\n",
    "\n",
    "\n"
   ]
  },
  {
   "cell_type": "code",
   "execution_count": 33,
   "metadata": {},
   "outputs": [
    {
     "data": {
      "text/plain": [
       "<Figure size 720x360 with 0 Axes>"
      ]
     },
     "execution_count": 33,
     "metadata": {},
     "output_type": "execute_result"
    },
    {
     "data": {
      "image/png": "[encoded data removed]",
      "text/plain": [
       "<Figure size 432x288 with 1 Axes>"
      ]
     },
     "metadata": {
      "needs_background": "light"
     },
     "output_type": "display_data"
    },
    {
     "data": {
      "text/plain": [
       "<Figure size 720x360 with 0 Axes>"
      ]
     },
     "metadata": {},
     "output_type": "display_data"
    }
   ],
   "source": [
    "# Generate a bar plot showing the total number of measurements taken on each drug regimen using pyplot.\n",
    "\n",
    "measurements_list = count_per_drug.tolist()\n",
    "# measurements_list\n",
    "\n",
    "x_axis = count_per_drug.index.values\n",
    "y_axis = measurements_list\n",
    "\n",
    "plt.bar(x_axis, y_axis, color ='red', alpha = 1, align = 'center')\n",
    "plt.xticks(['Capomulin', 'Ceftamin', 'Infubinol', 'Ketapril', 'Naftisol', 'Placebo', 'Propriva','Ramicane','Stelasyn','Zoniferol'], rotation = 'vertical')\n",
    "\n",
    "plt.xlim(-.75, len(x_axis)-.25)\n",
    "plt.ylim(0, max(y_axis)+10)\n",
    "\n",
    "plt.xlabel('Drug Regimen', fontsize = 12)\n",
    "plt.ylabel('Number of Measurements', fontsize = 12)\n",
    "plt.title('Number of Measurements Per Drug Regiment', fontsize = 18)\n",
    "plt.figure(figsize = (10,5))\n"
   ]
  },
  {
   "cell_type": "code",
   "execution_count": 53,
   "metadata": {},
   "outputs": [
    {
     "data": {
      "text/plain": [
       "Text(0.5, 1.0, 'Distribution of Female versus Male Mice')"
      ]
     },
     "execution_count": 53,
     "metadata": {},
     "output_type": "execute_result"
    },
    {
     "data": {
      "image/png": "[encoded data removed]",
      "text/plain": [
       "<Figure size 432x288 with 1 Axes>"
      ]
     },
     "metadata": {},
     "output_type": "display_data"
    }
   ],
   "source": [
    "# Generate a pie plot showing the distribution of female versus male mice using pandas\n",
    "\n",
    "gender_plot = clean_data['Sex'].value_counts()\n",
    "#gender_data\n",
    "\n",
    "gender_plot.plot.pie(colors = ['red','blue'], shadow = True, autopct= '%1.1f%%')\n",
    "plt.title('Distribution of Female versus Male Mice')\n"
   ]
  },
  {
   "cell_type": "code",
   "execution_count": 59,
   "metadata": {},
   "outputs": [
    {
     "data": {
      "text/plain": [
       "Text(0.5, 1.0, 'Distribution of Female versus Male Mice')"
      ]
     },
     "execution_count": 59,
     "metadata": {},
     "output_type": "execute_result"
    },
    {
     "data": {
      "image/png": "[encoded data removed]",
      "text/plain": [
       "<Figure size 432x288 with 1 Axes>"
      ]
     },
     "metadata": {},
     "output_type": "display_data"
    }
   ],
   "source": [
    "# Generate a pie plot showing the distribution of female versus male mice using pyplot\n",
    "\n",
    "pieplot = plt.pie(gender_plot, labels = ['Male','Female'], shadow = True,colors = ['red','blue'], autopct= '%1.1f%%')\n",
    "plt.title('Distribution of Female versus Male Mice')"
   ]
  },
  {
   "cell_type": "markdown",
   "metadata": {},
   "source": [
    "## Quartiles, Outliers and Boxplots"
   ]
  },
  {
   "cell_type": "code",
   "execution_count": 79,
   "metadata": {},
   "outputs": [
    {
     "data": {
      "text/html": [
       "<div>\n",
       "<style scoped>\n",
       "    .dataframe tbody tr th:only-of-type {\n",
       "        vertical-align: middle;\n",
       "    }\n",
       "\n",
       "    .dataframe tbody tr th {\n",
       "        vertical-align: top;\n",
       "    }\n",
       "\n",
       "    .dataframe thead th {\n",
       "        text-align: right;\n",
       "    }\n",
       "</style>\n",
       "<table border=\"1\" class=\"dataframe\">\n",
       "  <thead>\n",
       "    <tr style=\"text-align: right;\">\n",
       "      <th></th>\n",
       "      <th>Mouse ID</th>\n",
       "      <th>Timepoint</th>\n",
       "      <th>Drug Regimen</th>\n",
       "      <th>Sex</th>\n",
       "      <th>Age_months</th>\n",
       "      <th>Weight (g)</th>\n",
       "      <th>Tumor Volume (mm3)</th>\n",
       "      <th>Metastatic Sites</th>\n",
       "    </tr>\n",
       "  </thead>\n",
       "  <tbody>\n",
       "    <tr>\n",
       "      <th>0</th>\n",
       "      <td>b128</td>\n",
       "      <td>45</td>\n",
       "      <td>Capomulin</td>\n",
       "      <td>Female</td>\n",
       "      <td>9</td>\n",
       "      <td>22</td>\n",
       "      <td>38.982878</td>\n",
       "      <td>2</td>\n",
       "    </tr>\n",
       "    <tr>\n",
       "      <th>1</th>\n",
       "      <td>b742</td>\n",
       "      <td>45</td>\n",
       "      <td>Capomulin</td>\n",
       "      <td>Male</td>\n",
       "      <td>7</td>\n",
       "      <td>21</td>\n",
       "      <td>38.939633</td>\n",
       "      <td>0</td>\n",
       "    </tr>\n",
       "    <tr>\n",
       "      <th>2</th>\n",
       "      <td>f966</td>\n",
       "      <td>20</td>\n",
       "      <td>Capomulin</td>\n",
       "      <td>Male</td>\n",
       "      <td>16</td>\n",
       "      <td>17</td>\n",
       "      <td>30.485985</td>\n",
       "      <td>0</td>\n",
       "    </tr>\n",
       "    <tr>\n",
       "      <th>3</th>\n",
       "      <td>g288</td>\n",
       "      <td>45</td>\n",
       "      <td>Capomulin</td>\n",
       "      <td>Male</td>\n",
       "      <td>3</td>\n",
       "      <td>19</td>\n",
       "      <td>37.074024</td>\n",
       "      <td>1</td>\n",
       "    </tr>\n",
       "    <tr>\n",
       "      <th>4</th>\n",
       "      <td>g316</td>\n",
       "      <td>45</td>\n",
       "      <td>Capomulin</td>\n",
       "      <td>Female</td>\n",
       "      <td>22</td>\n",
       "      <td>22</td>\n",
       "      <td>40.159220</td>\n",
       "      <td>2</td>\n",
       "    </tr>\n",
       "  </tbody>\n",
       "</table>\n",
       "</div>"
      ],
      "text/plain": [
       "  Mouse ID  Timepoint Drug Regimen     Sex  Age_months  Weight (g)  \\\n",
       "0     b128         45    Capomulin  Female           9          22   \n",
       "1     b742         45    Capomulin    Male           7          21   \n",
       "2     f966         20    Capomulin    Male          16          17   \n",
       "3     g288         45    Capomulin    Male           3          19   \n",
       "4     g316         45    Capomulin  Female          22          22   \n",
       "\n",
       "   Tumor Volume (mm3)  Metastatic Sites  \n",
       "0           38.982878                 2  \n",
       "1           38.939633                 0  \n",
       "2           30.485985                 0  \n",
       "3           37.074024                 1  \n",
       "4           40.159220                 2  "
      ]
     },
     "execution_count": 79,
     "metadata": {},
     "output_type": "execute_result"
    }
   ],
   "source": [
    "# Calculate the final tumor volume of each mouse across four of the treatment regimens:  \n",
    "# Capomulin, Ramicane, Infubinol, and Ceftamin\n",
    "\n",
    "Capomulin = clean_data.loc[clean_data['Drug Regimen'] == 'Capomulin', :]\n",
    "Ramicane = clean_data.loc[clean_data['Drug Regimen'] == 'Ramicane', :]\n",
    "Infubinol = clean_data.loc[clean_data['Drug Regimen'] == 'Infubinol', :]\n",
    "Ceftamin = clean_data.loc[clean_data['Drug Regimen'] == 'Ceftamin', :]\n",
    "\n",
    "\n",
    "# Start by getting the last (greatest) timepoint for each mouse\n",
    "Capomulin_last = Capomulin.groupby('Mouse ID').max()['Timepoint']\n",
    "Ramicane_last = Ramicane.groupby('Mouse ID').max()['Timepoint']\n",
    "Infubinol_last = Infubinol.groupby('Mouse ID').max()['Timepoint']\n",
    "Ceftamin_last = Ceftamin.groupby('Mouse ID').max()['Timepoint']\n",
    "# Merge this group df with the original dataframe to get the tumor volume at the last timepoint\n",
    "\n",
    "Capomulin_df = pd.DataFrame(Capomulin_last)\n",
    "MergedCapomulin = pd.merge(Capomulin_df, clean_data, on = ('Mouse ID', 'Timepoint'), how = 'left')\n",
    "MergedCapomulin.head()\n",
    "\n",
    "Ramicane_df = pd.DataFrame(Ramicane_last)\n",
    "MergedRamicane = pd.merge(Ramicane_df, clean_data, on = ('Mouse ID', 'Timepoint'), how = 'left')\n",
    "#MergedRamicane.head()\n",
    "\n",
    "Infubinol_df = pd.DataFrame(Infubinol_last)\n",
    "MergedInfubinol = pd.merge(Infubinol_df, clean_data, on = ('Mouse ID', 'Timepoint'), how = 'left')\n",
    "#MergedInfubinol.head()\n",
    "\n",
    "Ceftamin_df = pd.DataFrame(Ceftamin_last)\n",
    "MergedCeftamin = pd.merge(Ceftamin_df, clean_data, on = ('Mouse ID', 'Timepoint'), how = 'left')\n",
    "#MergedCeftamin.head()\n",
    "\n",
    "MergedCapomulin.head()"
   ]
  },
  {
   "cell_type": "code",
   "execution_count": 68,
   "metadata": {},
   "outputs": [
    {
     "name": "stdout",
     "output_type": "stream",
     "text": [
      "Capomulin lower quartile is: 32.37735684\n",
      "Capomulin upper quartile is: 40.1592203\n",
      "Capomulin IQR is: 7.781863460000004\n",
      "The lower bound is 20.70456164999999 and anything below may be an outlier\n",
      "The upper bound is 51.83201549 and anything above may be an outlier\n"
     ]
    }
   ],
   "source": [
    "Capomulin_tumor = MergedCapomulin['Tumor Volume (mm3)']\n",
    "\n",
    "quartiles = Capomulin_tumor.quantile([.25,.5,.75])\n",
    "lowerq = quartiles[.25]\n",
    "upperq = quartiles[.75]\n",
    "IQR = upperq - lowerq\n",
    "\n",
    "print(f'Capomulin lower quartile is: {lowerq}')\n",
    "print(f'Capomulin upper quartile is: {upperq}')\n",
    "print(f'Capomulin IQR is: {IQR}')\n",
    "\n",
    "lower_bound = lowerq - (1.5*IQR)\n",
    "upper_bound = upperq + (1.5*IQR)\n",
    "\n",
    "print(f'The lower bound is {lower_bound} and anything below may be an outlier')\n",
    "print(f'The upper bound is {upper_bound} and anything above may be an outlier')"
   ]
  },
  {
   "cell_type": "code",
   "execution_count": 69,
   "metadata": {},
   "outputs": [
    {
     "name": "stdout",
     "output_type": "stream",
     "text": [
      "Infubinol lower quartile is: 54.04860769\n",
      "Infubinol upper quartile is: 65.52574285\n",
      "Infubinol IQR is: 11.477135160000003\n",
      "The lower bound is 36.83290494999999 and anything below may be an outlier\n",
      "The upper bound is 82.74144559000001 and anything above may be an outlier\n"
     ]
    }
   ],
   "source": [
    "Infubinol_tumor = MergedInfubinol['Tumor Volume (mm3)']\n",
    "\n",
    "quartiles = Infubinol_tumor.quantile([.25,.5,.75])\n",
    "lowerq = quartiles[.25]\n",
    "upperq = quartiles[.75]\n",
    "IQR = upperq - lowerq\n",
    "\n",
    "print(f'Infubinol lower quartile is: {lowerq}')\n",
    "print(f'Infubinol upper quartile is: {upperq}')\n",
    "print(f'Infubinol IQR is: {IQR}')\n",
    "\n",
    "lower_bound = lowerq - (1.5*IQR)\n",
    "upper_bound = upperq + (1.5*IQR)\n",
    "\n",
    "print(f'The lower bound is {lower_bound} and anything below may be an outlier')\n",
    "print(f'The upper bound is {upper_bound} and anything above may be an outlier')"
   ]
  },
  {
   "cell_type": "code",
   "execution_count": 70,
   "metadata": {},
   "outputs": [
    {
     "name": "stdout",
     "output_type": "stream",
     "text": [
      "Ramicane lower quartile is: 31.56046955\n",
      "Ramicane upper quartile is: 40.65900627\n",
      "Ramicane IQR is: 9.098536719999998\n",
      "The lower bound is 17.912664470000003 and anything below may be an outlier\n",
      "The upper bound is 54.30681135 and anything above may be an outlier\n"
     ]
    }
   ],
   "source": [
    "Ramicane_tumor = MergedRamicane['Tumor Volume (mm3)']\n",
    "\n",
    "quartiles = Ramicane_tumor.quantile([.25,.5,.75])\n",
    "lowerq = quartiles[.25]\n",
    "upperq = quartiles[.75]\n",
    "IQR = upperq - lowerq\n",
    "\n",
    "print(f'Ramicane lower quartile is: {lowerq}')\n",
    "print(f'Ramicane upper quartile is: {upperq}')\n",
    "print(f'Ramicane IQR is: {IQR}')\n",
    "\n",
    "lower_bound = lowerq - (1.5*IQR)\n",
    "upper_bound = upperq + (1.5*IQR)\n",
    "\n",
    "print(f'The lower bound is {lower_bound} and anything below may be an outlier')\n",
    "print(f'The upper bound is {upper_bound} and anything above may be an outlier')"
   ]
  },
  {
   "cell_type": "code",
   "execution_count": 71,
   "metadata": {},
   "outputs": [
    {
     "name": "stdout",
     "output_type": "stream",
     "text": [
      "Ceftamin lower quartile is: 48.72207785\n",
      "Ceftamin upper quartile is: 64.29983003\n",
      "Ceftamin IQR is: 15.577752179999997\n",
      "The lower bound is 25.355449580000002 and anything below may be an outlier\n",
      "The upper bound is 87.66645829999999 and anything above may be an outlier\n"
     ]
    }
   ],
   "source": [
    "Ceftamin_tumor = MergedCeftamin['Tumor Volume (mm3)']\n",
    "\n",
    "quartiles = Ceftamin_tumor.quantile([.25,.5,.75])\n",
    "lowerq = quartiles[.25]\n",
    "upperq = quartiles[.75]\n",
    "IQR = upperq - lowerq\n",
    "\n",
    "print(f'Ceftamin lower quartile is: {lowerq}')\n",
    "print(f'Ceftamin upper quartile is: {upperq}')\n",
    "print(f'Ceftamin IQR is: {IQR}')\n",
    "\n",
    "lower_bound = lowerq - (1.5*IQR)\n",
    "upper_bound = upperq + (1.5*IQR)\n",
    "\n",
    "print(f'The lower bound is {lower_bound} and anything below may be an outlier')\n",
    "print(f'The upper bound is {upper_bound} and anything above may be an outlier')"
   ]
  },
  {
   "cell_type": "code",
   "execution_count": 76,
   "metadata": {},
   "outputs": [
    {
     "data": {
      "text/plain": [
       "{'whiskers': [<matplotlib.lines.Line2D at 0x7f83fdcf4f98>,\n",
       "  <matplotlib.lines.Line2D at 0x7f83fdd01358>,\n",
       "  <matplotlib.lines.Line2D at 0x7f83fdd0a630>,\n",
       "  <matplotlib.lines.Line2D at 0x7f83fdd0a9b0>,\n",
       "  <matplotlib.lines.Line2D at 0x7f83fea09ef0>,\n",
       "  <matplotlib.lines.Line2D at 0x7f83fea152b0>,\n",
       "  <matplotlib.lines.Line2D at 0x7f83fea1f7f0>,\n",
       "  <matplotlib.lines.Line2D at 0x7f83fea1fb70>],\n",
       " 'caps': [<matplotlib.lines.Line2D at 0x7f83fdd016d8>,\n",
       "  <matplotlib.lines.Line2D at 0x7f83fdd01a58>,\n",
       "  <matplotlib.lines.Line2D at 0x7f83fdd0ad30>,\n",
       "  <matplotlib.lines.Line2D at 0x7f83fea090f0>,\n",
       "  <matplotlib.lines.Line2D at 0x7f83fea15630>,\n",
       "  <matplotlib.lines.Line2D at 0x7f83fea159b0>,\n",
       "  <matplotlib.lines.Line2D at 0x7f83fea1fef0>,\n",
       "  <matplotlib.lines.Line2D at 0x7f83fea2a2b0>],\n",
       " 'boxes': [<matplotlib.lines.Line2D at 0x7f83fdcf4c88>,\n",
       "  <matplotlib.lines.Line2D at 0x7f83fdd0a2b0>,\n",
       "  <matplotlib.lines.Line2D at 0x7f83fea09b38>,\n",
       "  <matplotlib.lines.Line2D at 0x7f83fea1f438>],\n",
       " 'medians': [<matplotlib.lines.Line2D at 0x7f83fdcf4b00>,\n",
       "  <matplotlib.lines.Line2D at 0x7f83fea09470>,\n",
       "  <matplotlib.lines.Line2D at 0x7f83fea15d30>,\n",
       "  <matplotlib.lines.Line2D at 0x7f83fea2a630>],\n",
       " 'fliers': [<matplotlib.lines.Line2D at 0x7f83fdd01eb8>,\n",
       "  <matplotlib.lines.Line2D at 0x7f83fea097f0>,\n",
       "  <matplotlib.lines.Line2D at 0x7f83fea1f0f0>,\n",
       "  <matplotlib.lines.Line2D at 0x7f83fea2a9b0>],\n",
       " 'means': []}"
      ]
     },
     "execution_count": 76,
     "metadata": {},
     "output_type": "execute_result"
    },
    {
     "data": {
      "image/png": "[encoded data removed]",
      "text/plain": [
       "<Figure size 432x288 with 1 Axes>"
      ]
     },
     "metadata": {
      "needs_background": "light"
     },
     "output_type": "display_data"
    }
   ],
   "source": [
    "# Generate a box plot of the final tumor volume of each mouse across four regimens of interest\n",
    "\n",
    "tumor_data = [Capomulin_tumor, Ramicane_tumor, Infubinol_tumor, Ceftamin_tumor]\n",
    "DrugRegimen_list = ['Capomulin', 'Ramicane', 'Infubinol', 'Ceftamin']\n",
    "\n",
    "box_plot = plt.figure()\n",
    "plt.xlabel('Drug Regimen')\n",
    "plt.ylabel('Tumor Volume (mm3)')\n",
    "plt.title('Tumor Volume per Drug Regimen')\n",
    "plt.xticks([1,2,3,4],DrugRegimen_list, rotation = 'vertical')\n",
    "plt.boxplot(tumor_data)\n",
    "\n"
   ]
  },
  {
   "cell_type": "code",
   "execution_count": null,
   "metadata": {},
   "outputs": [],
   "source": []
  },
  {
   "cell_type": "code",
   "execution_count": null,
   "metadata": {},
   "outputs": [],
   "source": []
  },
  {
   "cell_type": "markdown",
   "metadata": {},
   "source": [
    "## Line and Scatter Plots"
   ]
  },
  {
   "cell_type": "code",
   "execution_count": 80,
   "metadata": {},
   "outputs": [
    {
     "data": {
      "text/html": [
       "<div>\n",
       "<style scoped>\n",
       "    .dataframe tbody tr th:only-of-type {\n",
       "        vertical-align: middle;\n",
       "    }\n",
       "\n",
       "    .dataframe tbody tr th {\n",
       "        vertical-align: top;\n",
       "    }\n",
       "\n",
       "    .dataframe thead th {\n",
       "        text-align: right;\n",
       "    }\n",
       "</style>\n",
       "<table border=\"1\" class=\"dataframe\">\n",
       "  <thead>\n",
       "    <tr style=\"text-align: right;\">\n",
       "      <th></th>\n",
       "      <th>Mouse ID</th>\n",
       "      <th>Drug Regimen</th>\n",
       "      <th>Sex</th>\n",
       "      <th>Age_months</th>\n",
       "      <th>Weight (g)</th>\n",
       "      <th>Timepoint</th>\n",
       "      <th>Tumor Volume (mm3)</th>\n",
       "      <th>Metastatic Sites</th>\n",
       "    </tr>\n",
       "  </thead>\n",
       "  <tbody>\n",
       "    <tr>\n",
       "      <th>300</th>\n",
       "      <td>b128</td>\n",
       "      <td>Capomulin</td>\n",
       "      <td>Female</td>\n",
       "      <td>9</td>\n",
       "      <td>22</td>\n",
       "      <td>0</td>\n",
       "      <td>45.000000</td>\n",
       "      <td>0</td>\n",
       "    </tr>\n",
       "    <tr>\n",
       "      <th>301</th>\n",
       "      <td>b128</td>\n",
       "      <td>Capomulin</td>\n",
       "      <td>Female</td>\n",
       "      <td>9</td>\n",
       "      <td>22</td>\n",
       "      <td>5</td>\n",
       "      <td>45.651331</td>\n",
       "      <td>0</td>\n",
       "    </tr>\n",
       "    <tr>\n",
       "      <th>302</th>\n",
       "      <td>b128</td>\n",
       "      <td>Capomulin</td>\n",
       "      <td>Female</td>\n",
       "      <td>9</td>\n",
       "      <td>22</td>\n",
       "      <td>10</td>\n",
       "      <td>43.270852</td>\n",
       "      <td>0</td>\n",
       "    </tr>\n",
       "    <tr>\n",
       "      <th>303</th>\n",
       "      <td>b128</td>\n",
       "      <td>Capomulin</td>\n",
       "      <td>Female</td>\n",
       "      <td>9</td>\n",
       "      <td>22</td>\n",
       "      <td>15</td>\n",
       "      <td>43.784893</td>\n",
       "      <td>0</td>\n",
       "    </tr>\n",
       "    <tr>\n",
       "      <th>304</th>\n",
       "      <td>b128</td>\n",
       "      <td>Capomulin</td>\n",
       "      <td>Female</td>\n",
       "      <td>9</td>\n",
       "      <td>22</td>\n",
       "      <td>20</td>\n",
       "      <td>42.731552</td>\n",
       "      <td>0</td>\n",
       "    </tr>\n",
       "  </tbody>\n",
       "</table>\n",
       "</div>"
      ],
      "text/plain": [
       "    Mouse ID Drug Regimen     Sex  Age_months  Weight (g)  Timepoint  \\\n",
       "300     b128    Capomulin  Female           9          22          0   \n",
       "301     b128    Capomulin  Female           9          22          5   \n",
       "302     b128    Capomulin  Female           9          22         10   \n",
       "303     b128    Capomulin  Female           9          22         15   \n",
       "304     b128    Capomulin  Female           9          22         20   \n",
       "\n",
       "     Tumor Volume (mm3)  Metastatic Sites  \n",
       "300           45.000000                 0  \n",
       "301           45.651331                 0  \n",
       "302           43.270852                 0  \n",
       "303           43.784893                 0  \n",
       "304           42.731552                 0  "
      ]
     },
     "execution_count": 80,
     "metadata": {},
     "output_type": "execute_result"
    }
   ],
   "source": [
    "# Generate a line plot of tumor volume vs. time point for a mouse treated with Capomulin\n",
    "mouse_capomulin = Capomulin.loc[Capomulin['Mouse ID'] == 'b128',:]\n",
    "\n",
    "mouse_capomulin.head()"
   ]
  },
  {
   "cell_type": "code",
   "execution_count": 83,
   "metadata": {},
   "outputs": [
    {
     "data": {
      "text/plain": [
       "Text(0.5, 1.0, 'Treatment of Capomulin in Mouse B128')"
      ]
     },
     "execution_count": 83,
     "metadata": {},
     "output_type": "execute_result"
    },
    {
     "data": {
      "image/png": "[encoded data removed]",
      "text/plain": [
       "<Figure size 432x288 with 1 Axes>"
      ]
     },
     "metadata": {
      "needs_background": "light"
     },
     "output_type": "display_data"
    }
   ],
   "source": [
    "# Generate a scatter plot of average tumor volume vs. mouse weight for the Capomulin regimen\n",
    "\n",
    "x_axis = mouse_capomulin['Timepoint']\n",
    "y_axis = mouse_capomulin['Tumor Volume (mm3)']\n",
    "\n",
    "plt.plot(x_axis, y_axis, linewidth = 1, marker = 'x', color = 'red')\n",
    "plt.xlabel('Timepoint')\n",
    "plt.ylabel('Tumor Volume (mm3)')\n",
    "plt.title('Treatment of Capomulin in Mouse B128')\n",
    "\n",
    "\n",
    "\n"
   ]
  },
  {
   "cell_type": "markdown",
   "metadata": {},
   "source": [
    "## Correlation and Regression"
   ]
  },
  {
   "cell_type": "code",
   "execution_count": null,
   "metadata": {},
   "outputs": [],
   "source": [
    "# Calculate the correlation coefficient and linear regression model \n",
    "# for mouse weight and average tumor volume for the Capomulin regimen\n",
    "\n",
    "\n"
   ]
  },
  {
   "cell_type": "code",
   "execution_count": null,
   "metadata": {},
   "outputs": [],
   "source": []
  }
 ],
 "metadata": {
  "anaconda-cloud": {},
  "kernelspec": {
   "display_name": "Python [conda env:PythonData] *",
   "language": "python",
   "name": "conda-env-PythonData-py"
  },
  "language_info": {
   "codemirror_mode": {
    "name": "ipython",
    "version": 3
   },
   "file_extension": ".py",
   "mimetype": "text/x-python",
   "name": "python",
   "nbconvert_exporter": "python",
   "pygments_lexer": "ipython3",
   "version": "3.6.10"
  }
 },
 "nbformat": 4,
 "nbformat_minor": 4
}
